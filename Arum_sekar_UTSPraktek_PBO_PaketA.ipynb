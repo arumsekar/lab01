{
  "nbformat": 4,
  "nbformat_minor": 0,
  "metadata": {
    "colab": {
      "provenance": [],
      "include_colab_link": true
    },
    "kernelspec": {
      "name": "python3",
      "display_name": "Python 3"
    },
    "language_info": {
      "name": "python"
    }
  },
  "cells": [
    {
      "cell_type": "markdown",
      "metadata": {
        "id": "view-in-github",
        "colab_type": "text"
      },
      "source": [
        "<a href=\"https://colab.research.google.com/github/arumsekar/lab01/blob/main/Arum_sekar_UTSPraktek_PBO_PaketA.ipynb\" target=\"_parent\"><img src=\"https://colab.research.google.com/assets/colab-badge.svg\" alt=\"Open In Colab\"/></a>"
      ]
    },
    {
      "cell_type": "markdown",
      "source": [
        "**Sistem Manajemen Buku Perpustakaan**\n",
        "\n",
        "Anda adalah seorang pengembang perangkat lunak yang bekerja untuk perpustakaan besar. Perpustakaan ini memiliki kelas induk Buku dengan atribut berikut:\n",
        "*   kode unik\n",
        "*   judul\n",
        "*   nama pengarang\n",
        "*   tahun terbit\n",
        "\n",
        "Selain itu, perpustakaan ini memiliki dua jenis buku spesifik yaitu Fiksi dan Non Fiksi\n",
        "\n",
        "Buku fiksi memiliki atribut tambahan genre (genre atau jenis fiksi buku, misalnya, roman, fantasi, dll.)\n",
        "\n",
        "Sementara buku non-fiksi memiliki atribut tambahan subjek (subjek atau topik buku non-fiksi, misalnya, sejarah, sains, dll.)\n",
        "\n",
        "Manajemen perpustakaan ingin Anda membuat program Python yang memungkinkan mereka untuk mencetak informasi tentang setiap buku, termasuk kode buku, judul, pengarang, tahun terbit, serta atribut tambahan yang sesuai (genre atau subjek).\n",
        "\n",
        "Buatlah program yang terdiri dari class-class yang dibutuhkan dan program utama yang digunakan untuk menjalankan class-class yang telah dibuat.\n",
        "\n",
        "Selamat mengerjakan!"
      ],
      "metadata": {
        "id": "JXbejHFnmH53"
      }
    },
    {
      "cell_type": "code",
      "execution_count": 13,
      "metadata": {
        "id": "8oo4WH4vlUD2"
      },
      "outputs": [],
      "source": [
        "class Buku:\n",
        "   def __init__(self, kode_unik, judul, nama_pengarang, tahun_terbit):\n",
        "     self.kode_unik = kode_unik\n",
        "     self.judul = judul\n",
        "     self.nama_pengarang = nama_pengarang\n",
        "     self.tahun_terbit = tahun_terbit\n",
        "\n",
        "   def informasi(self):\n",
        "     print(f\"kode unik: {self.kode_unik}\")\n",
        "     print(f\"judul: {self.judul}\")\n",
        "     print(f\"nama pengarang: {self.nama_pengarang}\")\n",
        "     print(f\"tahun penerbit: {self.tahun_terbit}\")"
      ]
    },
    {
      "cell_type": "code",
      "source": [
        "class fiksi(Buku):\n",
        "  def __init__(self, kode_unik, judul, nama_pengarang, tahun_terbit, genre):\n",
        "    super().__init__(kode_unik, judul, nama_pengarang, tahun_terbit)\n",
        "    self.genre = genre\n",
        "\n",
        "  def informasi(self):\n",
        "    super().informasi()\n",
        "    print('genre', self.genre)"
      ],
      "metadata": {
        "id": "DNoM9kespfIA"
      },
      "execution_count": 14,
      "outputs": []
    },
    {
      "cell_type": "code",
      "source": [
        "class nonfiksi(Buku):\n",
        "  def __init__(self, kode_unik, judul, nama_pengarang, tahun_terbit, subjek):\n",
        "    super().__init__(kode_unik, judul, nama_pengarang, tahun_terbit)\n",
        "    self.subjek = subjek\n",
        "\n",
        "  def informasi(self):\n",
        "    super().informasi()\n",
        "    print('subjek', self.subjek)"
      ],
      "metadata": {
        "id": "fV76ZsOapgyM"
      },
      "execution_count": 15,
      "outputs": []
    },
    {
      "cell_type": "code",
      "source": [
        "# penggunaan masing-masing jenis class Buku\n",
        "\n",
        "buku1 = fiksi(32786, \"samuel\", \"bunlor\", 2020, \"action\")\n",
        "buku2 = nonfiksi(76859, \"sapiens\", \"yufal\", 2010, \"sejarah\")\n",
        "\n",
        "# informasi fiksi\n",
        "print(\"informasi fiksi\")\n",
        "buku1.informasi()\n",
        "\n",
        "# informasi nonfiksi\n",
        "print(\"informasi nonfiksi\")\n",
        "buku2.informasi()\n"
      ],
      "metadata": {
        "id": "vTjvZzu1pjM6",
        "colab": {
          "base_uri": "https://localhost:8080/"
        },
        "outputId": "24299ddb-33f1-4ea3-e79e-018c491da41e"
      },
      "execution_count": 16,
      "outputs": [
        {
          "output_type": "stream",
          "name": "stdout",
          "text": [
            "informasi fiksi\n",
            "kode unik: 32786\n",
            "judul: samuel\n",
            "nama pengarang: bunlor\n",
            "tahun penerbit: 2020\n",
            "genre action\n",
            "informasi nonfiksi\n",
            "kode unik: 76859\n",
            "judul: sapiens\n",
            "nama pengarang: yufal\n",
            "tahun penerbit: 2010\n",
            "subjek sejarah\n"
          ]
        }
      ]
    },
    {
      "cell_type": "markdown",
      "source": [
        "## Penjelasan\n",
        "Class Buku adalah class induk dengan atribut kode buku, judul, pengarang, dan tahun terbit. Fungsi informasi dalam kelas ini mencetak informasi umum tentang buku.\n",
        "\n",
        "Class fiksi mewarisi dari class Buku dan memiliki atribut tambahan genre. Fungsi informasi dalam class ini memanggil fungsi deskripsi dari class induk dan mencetak informasi tambahan tentang buku fiksi, yaitu genre\n",
        "\n",
        "Class nonfiksi juga mewarisi dari class Buku dan memiliki atribut tambahan subjek. Fungsi deskripsi dalam class ini juga memanggil fungsi deskripsi dari class induk dan mencetak informasi tambahan tentang buku non-fiksi, yaitu subjek"
      ],
      "metadata": {
        "id": "S6oTzmrXnsT5"
      }
    },
    {
      "cell_type": "code",
      "source": [],
      "metadata": {
        "id": "CNp469JEyzX7"
      },
      "execution_count": null,
      "outputs": []
    }
  ]
}