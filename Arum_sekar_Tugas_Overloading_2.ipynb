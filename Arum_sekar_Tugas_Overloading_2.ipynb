{
  "nbformat": 4,
  "nbformat_minor": 0,
  "metadata": {
    "colab": {
      "provenance": [],
      "include_colab_link": true
    },
    "kernelspec": {
      "name": "python3",
      "display_name": "Python 3"
    },
    "language_info": {
      "name": "python"
    }
  },
  "cells": [
    {
      "cell_type": "markdown",
      "metadata": {
        "id": "view-in-github",
        "colab_type": "text"
      },
      "source": [
        "<a href=\"https://colab.research.google.com/github/arumsekar/lab01/blob/main/Arum_sekar_Tugas_Overloading_2.ipynb\" target=\"_parent\"><img src=\"https://colab.research.google.com/assets/colab-badge.svg\" alt=\"Open In Colab\"/></a>"
      ]
    },
    {
      "cell_type": "code",
      "execution_count": 3,
      "metadata": {
        "id": "5zCytCeM1uD4"
      },
      "outputs": [],
      "source": [
        "class Nama:\n",
        "  def hasil(self, num1 = \"\", num2 = \"\", num3 = \"\", num4= \"\", num5 = \"\"):\n",
        "    print(num1 + num2 + num3 + num4 + num5)"
      ]
    },
    {
      "cell_type": "code",
      "source": [
        "coba = Nama()\n",
        "\n",
        "coba.hasil(\" Arum \", \" Sekar \",\" Kinasih \")\n",
        "coba.hasil(\" Yeyen \", \" Lintang \", \" Sari \")\n",
        "coba.hasil(\" Bungah \", \" Citra \",\" Lestari \")\n",
        "coba.hasil(\" Nadia \", \" Erica \")\n",
        "coba.hasil(\" Anila \", \" Yaffa \",\" Zafirah \")"
      ],
      "metadata": {
        "id": "liQBcJWZ12MN",
        "colab": {
          "base_uri": "https://localhost:8080/"
        },
        "outputId": "bab84284-2d36-4de3-da54-b2d8b15329ec"
      },
      "execution_count": 5,
      "outputs": [
        {
          "output_type": "stream",
          "name": "stdout",
          "text": [
            " Arum  Sekar  Kinasih \n",
            " Yeyen  Lintang  Sari \n",
            " Bungah  Citra  Lestari \n",
            " Nadia  Erica \n",
            " Anila  Yaffa  Zafirah \n"
          ]
        }
      ]
    },
    {
      "cell_type": "code",
      "source": [
        "# Tulisakan kesimpulan dari materi Overloading menurut pemahaman anda!\n",
        "print(\"Overloading adalah konsep di mana sebuah kelas dapat memiliki beberapa method dengan nama yang sama tetapi dengan parameter yang berbeda.\")\n",
        "print(\"Dalam Python, kita tidak bisa membuat beberapa method yang sama dengan parameter yang berbeda secara sekaligus.\")\n",
        "print(\"Kita bisa membuat efek overloading menggunakan dua buah trik, yaitu menggunakan variabel args, dan default parameter.\")\n",
        "print(\"Jika num3 dan num4 tidak disertakan dalam pemanggilan method hasil() maka keduanya diberi nilai 0.\")"
      ],
      "metadata": {
        "id": "xwFmppIG3JGE",
        "colab": {
          "base_uri": "https://localhost:8080/"
        },
        "outputId": "8a8488db-0d00-42cf-c3fd-72b6a7b78ac2"
      },
      "execution_count": 12,
      "outputs": [
        {
          "output_type": "stream",
          "name": "stdout",
          "text": [
            "Overloading adalah konsep di mana sebuah kelas dapat memiliki beberapa method dengan nama yang sama tetapi dengan parameter yang berbeda.\n",
            "Dalam Python, kita tidak bisa membuat beberapa method yang sama dengan parameter yang berbeda secara sekaligus.\n",
            "Kita bisa membuat efek overloading menggunakan dua buah trik, yaitu menggunakan variabel args, dan default parameter.\n",
            "Jika num3 dan num4 tidak disertakan dalam pemanggilan method hasil() maka keduanya diberi nilai 0.\n"
          ]
        }
      ]
    }
  ]
}